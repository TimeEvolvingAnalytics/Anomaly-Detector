{
 "cells": [
  {
   "cell_type": "code",
   "execution_count": 3,
   "metadata": {},
   "outputs": [],
   "source": [
    "import matplotlib.pyplot as plt\n",
    "import numpy as np\n",
    "import pandas as pd\n",
    "from sklearn.metrics import auc\n",
    "from sklearn.preprocessing import OneHotEncoder\n",
    "from sklearn.ensemble import IsolationForest\n",
    "from sklearn.neighbors import LocalOutlierFactor\n",
    "from sklearn.svm import OneClassSVM\n",
    "import timeit"
   ]
  },
  {
   "cell_type": "markdown",
   "metadata": {},
   "source": [
    "# Clean Data"
   ]
  },
  {
   "cell_type": "code",
   "execution_count": 4,
   "metadata": {},
   "outputs": [],
   "source": [
    "values = ['tdmp_bytes_created','tdmp_bytes_total','tdmp_packets_created','tdmp_packets_total']\n",
    "services = ['http','postgresql','ssh']\n",
    "files = ['2021-04-01_2021-05-01','2021-05-01_2021-06-01','2021-06-01_2021-07-01','2021-07-01_2021-08-01']"
   ]
  },
  {
   "cell_type": "code",
   "execution_count": null,
   "metadata": {},
   "outputs": [],
   "source": [
    "for value in values:\n",
    "    for service in services:\n",
    "        path = 'dataset/' + value + '/' + service + '/'\n",
    "        for file in files:\n",
    "            with open(path + file + '.csv', \"r\") as input_file:\n",
    "                rows = input_file.readlines()\n",
    "\n",
    "            with open(path + file + '_clean.csv', \"w\") as output_file:\n",
    "                for row in rows:\n",
    "                    if row[0] != '#':\n",
    "                        output_file.write(row) \n",
    "            try:\n",
    "                df = pd.read_csv(path + file + '_clean.csv',header=0)\n",
    "                df = df.drop(['Unnamed: 0', 'result','table','_start','_stop','_field','_measurement','service','host'], axis=1)\n",
    "                df.to_csv(path + file + '_clean.csv',index=False)\n",
    "            except:\n",
    "                continue\n",
    "            "
   ]
  },
  {
   "cell_type": "markdown",
   "metadata": {},
   "source": [
    "# Process Data"
   ]
  },
  {
   "cell_type": "code",
   "execution_count": 5,
   "metadata": {},
   "outputs": [],
   "source": [
    "# Define metrics to use\n",
    "\n",
    "\n",
    "# più grande è, meglio è\n",
    "def em(t, t_max, volume_support, s_unif, s_X, n_generated):\n",
    "    EM_t = np.zeros(t.shape[0])\n",
    "    n_samples = s_X.shape[0]\n",
    "    s_X_unique = np.unique(s_X)\n",
    "    EM_t[0] = 1.\n",
    "    for u in s_X_unique:\n",
    "        # if (s_unif >= u).sum() > n_generated / 1000:\n",
    "        EM_t = np.maximum(EM_t, 1. / n_samples * (s_X > u).sum() -\n",
    "                          t * (s_unif > u).sum() / n_generated\n",
    "                          * volume_support)\n",
    "    amax = np.argmax(EM_t <= t_max) + 1\n",
    "    if amax == 1:\n",
    "        print ('\\n failed to achieve t_max \\n')\n",
    "        amax = -1\n",
    "    AUC = auc(t[:amax], EM_t[:amax])\n",
    "    return AUC, EM_t, amax\n",
    "\n",
    "\n",
    "# più piccolo è, meglio è\n",
    "def mv(axis_alpha, volume_support, s_unif, s_X, n_generated):\n",
    "    n_samples = s_X.shape[0]\n",
    "    s_X_argsort = s_X.argsort()\n",
    "    mass = 0\n",
    "    cpt = 0\n",
    "    u = s_X[s_X_argsort[-1]]\n",
    "    mv = np.zeros(axis_alpha.shape[0])\n",
    "    for i in range(axis_alpha.shape[0]):\n",
    "        # pdb.set_trace()\n",
    "        while mass < axis_alpha[i]:\n",
    "            cpt += 1\n",
    "            u = s_X[s_X_argsort[-cpt]]\n",
    "            mass = 1. / n_samples * cpt  # sum(s_X > u)\n",
    "        mv[i] = float((s_unif >= u).sum()) / n_generated * volume_support\n",
    "    return auc(axis_alpha, mv), mv\n"
   ]
  },
  {
   "cell_type": "code",
   "execution_count": 6,
   "metadata": {},
   "outputs": [],
   "source": [
    "n_generated = 100000\n",
    "alpha_min = 0.9\n",
    "alpha_max = 0.999\n",
    "t_max = 0.9\n",
    "ocsvm_max_train = 10000\n",
    "np.random.seed(1)"
   ]
  },
  {
   "cell_type": "code",
   "execution_count": 7,
   "metadata": {},
   "outputs": [],
   "source": [
    "def split_df(df):    \n",
    "    df['_time'] = pd.to_datetime(df['_time']).astype(np.int64) / int(1e6)\n",
    "    encoder = OneHotEncoder(handle_unknown='ignore')\n",
    "    ohencDf = df.copy()\n",
    "    encoding = pd.DataFrame(encoder.fit_transform(ohencDf[[\"dst\",\"dstp\",\"proto\",\"src\",\"srcp\",\"url\"]]).toarray())\n",
    "    ohencDf = ohencDf.drop([\"dst\",\"dstp\",\"proto\",\"src\",\"srcp\",\"url\"],axis=1)\n",
    "    ohencDf = ohencDf.join(encoding)\n",
    "    n_train = int(ohencDf.shape[0] * 0.8)\n",
    "    train = np.array(ohencDf.head(n_train))\n",
    "    test = (ohencDf.tail(ohencDf.shape[0]-n_train))\n",
    "    return ohencDf,np.array(train),np.array(test)"
   ]
  },
  {
   "cell_type": "code",
   "execution_count": 8,
   "metadata": {},
   "outputs": [],
   "source": [
    "def calculate_parameters(df):\n",
    "    lim_inf = np.array(df).min(axis=0)\n",
    "    lim_sup = np.array(df).max(axis=0)\n",
    "    volume_support = (lim_sup - lim_inf).prod()\n",
    "    volume_support = volume_support if volume_support > 1 else 1\n",
    "    t = np.arange(0, 100 / volume_support, 0.01 / volume_support)\n",
    "    axis_alpha = np.arange(alpha_min, alpha_max, 0.0001)\n",
    "    unif = np.random.uniform(lim_inf, lim_sup,size=(n_generated, df.shape[1]))\n",
    "    return t,volume_support,axis_alpha,unif"
   ]
  },
  {
   "cell_type": "code",
   "execution_count": 9,
   "metadata": {},
   "outputs": [],
   "source": [
    "def evaluate_model(model,train,test,unif,reshape=False):\n",
    "    model.fit(train)\n",
    "    s_X_model = model.decision_function(test)\n",
    "    s_unif_model = model.decision_function(unif)\n",
    "    if reshape:\n",
    "        #model.fit(train[:min(ocsvm_max_train, n_samples_train - 1)])\n",
    "        s_X_model = s_X_model.reshape(1, -1)[0]\n",
    "        s_unif_model = s_unif_model.reshape(1, -1)[0]                           \n",
    "    return s_X_model,s_unif_model"
   ]
  },
  {
   "cell_type": "code",
   "execution_count": 10,
   "metadata": {},
   "outputs": [],
   "source": [
    "def calculate_metrics(t,volume_support,s_unif_model,s_X_model,axis_alpha):\n",
    "    auc_em_model,em_model,amax_model = em(t, t_max,volume_support,s_unif_model,s_X_model,n_generated)\n",
    "    auc_mv_model,mv_model = mv(axis_alpha,volume_support,s_unif_model, s_X_model,n_generated)\n",
    "    return auc_em_model,em_model,amax_model,auc_mv_model,mv_model"
   ]
  },
  {
   "cell_type": "code",
   "execution_count": 11,
   "metadata": {},
   "outputs": [],
   "source": [
    "def plot(path,title,t,amax,em_iforest,mv_iforest,auc_em_iforest,auc_mv_iforest,em_lof,mv_lof,auc_em_lof,auc_mv_lof,em_ocsvm,mv_ocsvm,auc_em_ocsvm,auc_mv_ocsvm,axis_alpha):\n",
    "    plt.clf()    \n",
    "    fig, (ax1, ax2) = plt.subplots(1, 2,figsize=(10, 5))\n",
    "    fig.suptitle(title,fontsize=25,y=1.05)    \n",
    "\n",
    "    ax1.plot(t[:amax], em_iforest[:amax], lw=1,label='%s (em_score = %0.3e)'% ('iforest', auc_em_iforest))\n",
    "    ax1.plot(t[:amax], em_lof[:amax], lw=1,label='%s (em-score = %0.3e)'% ('lof', auc_em_lof))\n",
    "    ax1.plot(t[:amax], em_ocsvm[:amax], lw=1,label='%s (em-score = %0.3e)'% ('ocsvm', auc_em_ocsvm))\n",
    "    ax1.set_xlabel('t',fontsize=20)\n",
    "    ax1.set_ylabel('EM(t)',fontsize=20)\n",
    "    ax1.set_ylim([-0.05, 1.05])\n",
    "    ax1.set_title('Excess-Mass curve', fontsize=20)\n",
    "    ax1.legend(loc=\"upper center\",bbox_to_anchor=(0.5,-0.15),fancybox=True)\n",
    "\n",
    "    ax2.plot(axis_alpha, mv_iforest, lw=1,label='%s (mv-score = %0.3e)'% ('iforest', auc_mv_iforest))\n",
    "    ax2.plot(axis_alpha, mv_lof, lw=1,label='%s (mv-score = %0.3e)'% ('lof', auc_mv_lof))\n",
    "    ax2.plot(axis_alpha, mv_ocsvm, lw=1,label='%s (mv-score = %0.3e)'% ('ocsvm', auc_mv_ocsvm))    \n",
    "    ax2.set_xlabel('alpha', fontsize=20)\n",
    "    ax2.set_ylabel('MV(alpha)', fontsize=20)\n",
    "    ax2.set_title('Mass-Volume Curve', fontsize=20)\n",
    "    ax2.legend(loc=\"upper center\",bbox_to_anchor=(0.5,-0.15),fancybox=True)\n",
    "    \n",
    "    fig.subplots_adjust(wspace=0.4)\n",
    "    #plt.show()\n",
    "    plt.tight_layout()\n",
    "    plt.savefig(path + 'EM_MV_plot.png',bbox_inches='tight')"
   ]
  },
  {
   "cell_type": "code",
   "execution_count": 13,
   "metadata": {},
   "outputs": [
    {
     "name": "stdout",
     "output_type": "stream",
     "text": [
      "tdmp_bytes_created http\n",
      "Time:  115.42364981899996\n",
      "tdmp_bytes_created postgresql\n",
      "Time:  3200.9597775069997\n",
      "tdmp_bytes_created ssh\n",
      "Time:  2557.9089336640004\n",
      "\n",
      " failed to achieve t_max \n",
      "\n",
      "tdmp_bytes_total http\n",
      "Time:  103.2204592750004\n",
      "tdmp_bytes_total postgresql\n",
      "Time:  3114.058012822\n",
      "tdmp_bytes_total ssh\n",
      "Time:  2269.322355085\n",
      "\n",
      " failed to achieve t_max \n",
      "\n",
      "tdmp_packets_created http\n",
      "Time:  115.40537038100047\n",
      "tdmp_packets_created postgresql\n",
      "Time:  3426.3827985829994\n",
      "tdmp_packets_created ssh\n",
      "Time:  2343.5579230600015\n",
      "\n",
      " failed to achieve t_max \n",
      "\n",
      "tdmp_packets_total http\n",
      "Time:  103.13114078099898\n",
      "tdmp_packets_total postgresql\n",
      "Time:  3129.0646534670013\n",
      "tdmp_packets_total ssh\n",
      "Time:  2553.995349269997\n",
      "\n",
      " failed to achieve t_max \n",
      "\n"
     ]
    },
    {
     "data": {
      "text/plain": [
       "<Figure size 432x288 with 0 Axes>"
      ]
     },
     "metadata": {},
     "output_type": "display_data"
    },
    {
     "data": {
      "text/plain": [
       "<Figure size 720x360 with 0 Axes>"
      ]
     },
     "metadata": {},
     "output_type": "display_data"
    },
    {
     "data": {
      "text/plain": [
       "<Figure size 720x360 with 0 Axes>"
      ]
     },
     "metadata": {},
     "output_type": "display_data"
    },
    {
     "data": {
      "text/plain": [
       "<Figure size 720x360 with 0 Axes>"
      ]
     },
     "metadata": {},
     "output_type": "display_data"
    },
    {
     "data": {
      "text/plain": [
       "<Figure size 720x360 with 0 Axes>"
      ]
     },
     "metadata": {},
     "output_type": "display_data"
    },
    {
     "data": {
      "text/plain": [
       "<Figure size 720x360 with 0 Axes>"
      ]
     },
     "metadata": {},
     "output_type": "display_data"
    },
    {
     "data": {
      "text/plain": [
       "<Figure size 720x360 with 0 Axes>"
      ]
     },
     "metadata": {},
     "output_type": "display_data"
    },
    {
     "data": {
      "text/plain": [
       "<Figure size 720x360 with 0 Axes>"
      ]
     },
     "metadata": {},
     "output_type": "display_data"
    },
    {
     "data": {
      "text/plain": [
       "<Figure size 720x360 with 0 Axes>"
      ]
     },
     "metadata": {},
     "output_type": "display_data"
    },
    {
     "data": {
      "text/plain": [
       "<Figure size 720x360 with 0 Axes>"
      ]
     },
     "metadata": {},
     "output_type": "display_data"
    },
    {
     "data": {
      "text/plain": [
       "<Figure size 720x360 with 0 Axes>"
      ]
     },
     "metadata": {},
     "output_type": "display_data"
    },
    {
     "data": {
      "text/plain": [
       "<Figure size 720x360 with 0 Axes>"
      ]
     },
     "metadata": {},
     "output_type": "display_data"
    },
    {
     "data": {
      "image/png": "[encoded data removed]",
      "text/plain": [
       "<Figure size 720x360 with 2 Axes>"
      ]
     },
     "metadata": {
      "needs_background": "light"
     },
     "output_type": "display_data"
    }
   ],
   "source": [
    "files = ['2021-04-01_2021-05-01_clean','2021-05-01_2021-06-01_clean','2021-06-01_2021-07-01_clean','2021-07-01_2021-08-01_clean']\n",
    "\n",
    "for value in values:\n",
    "    for service in services:\n",
    "        title = value + ' ' + service\n",
    "        print(title)\n",
    "        path = 'dataset/' + value + '/' + service + '/'\n",
    "        df = pd.DataFrame()\n",
    "        for file in files:            \n",
    "            try:\n",
    "                f = pd.read_csv(path + file + '.csv',header=0).sort_values(by='_time',ascending=True)                \n",
    "                df = pd.concat([df,f],axis=0,ignore_index=True)                \n",
    "            except:\n",
    "                continue        \n",
    "        df_tot,df_train,df_test = split_df(df)\n",
    "        t,volume_support,axis_alpha,unif = calculate_parameters(df_tot)\n",
    "        start = timeit.default_timer()\n",
    "        s_X_iforest,s_unif_iforest = evaluate_model(IsolationForest(),df_train,df_test,unif)\n",
    "        s_X_lof,s_unif_lof = evaluate_model(LocalOutlierFactor(n_neighbors=20,novelty=True),df_train,df_test,unif)\n",
    "        s_X_ocsvm,s_unif_ocsvm = evaluate_model(OneClassSVM(),df_train,df_test,unif,True)\n",
    "        stop = timeit.default_timer()\n",
    "        print('Time: ', stop - start)\n",
    "        auc_em_iforest,em_iforest,amax_iforest,auc_mv_iforest,mv_iforest = calculate_metrics(t,volume_support,s_unif_iforest,s_X_iforest,axis_alpha)\n",
    "        auc_em_lof,em_lof,amax_lof,auc_mv_lof,mv_lof = calculate_metrics(t,volume_support,s_unif_lof,s_X_lof,axis_alpha)\n",
    "        auc_em_ocsvm,em_ocsvm,amax_ocsvm,auc_mv_ocsvm,mv_ocsvm = calculate_metrics(t,volume_support,s_unif_ocsvm,s_X_ocsvm,axis_alpha)\n",
    "        if amax_iforest == -1 or amax_lof == -1 or amax_ocsvm == -1:\n",
    "            amax = -1\n",
    "        else:\n",
    "            amax = max(amax_iforest, amax_lof, amax_ocsvm)\n",
    "        plot(path,title,t,amax,em_iforest,mv_iforest,auc_em_iforest,auc_mv_iforest,em_lof,mv_lof,auc_em_lof,auc_mv_lof,em_ocsvm,mv_ocsvm,auc_em_ocsvm,auc_mv_ocsvm,axis_alpha)\n",
    "        "
   ]
  }
 ],
 "metadata": {
  "kernelspec": {
   "display_name": "Python 3",
   "language": "python",
   "name": "python3"
  },
  "language_info": {
   "codemirror_mode": {
    "name": "ipython",
    "version": 3
   },
   "file_extension": ".py",
   "mimetype": "text/x-python",
   "name": "python",
   "nbconvert_exporter": "python",
   "pygments_lexer": "ipython3",
   "version": "3.7.6"
  }
 },
 "nbformat": 4,
 "nbformat_minor": 4
}
